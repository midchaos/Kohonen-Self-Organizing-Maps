{
  "nbformat": 4,
  "nbformat_minor": 0,
  "metadata": {
    "colab": {
      "name": "ECE657_A2Q3.ipynb",
      "provenance": [],
      "collapsed_sections": []
    },
    "kernelspec": {
      "name": "python3",
      "display_name": "Python 3"
    },
    "language_info": {
      "name": "python"
    }
  },
  "cells": [
    {
      "cell_type": "markdown",
      "source": [
        "# Assignment 2 - Question 3"
      ],
      "metadata": {
        "id": "rgDHHN97s6OE"
      }
    },
    {
      "cell_type": "code",
      "source": [
        "# Import the necessary libraries\n",
        "import pandas as pd\n",
        "from sklearn.model_selection import train_test_split\n",
        "import numpy as np\n",
        "import matplotlib.pyplot as plt\n",
        "import math\n",
        "from sklearn.metrics import mean_squared_error, accuracy_score\n",
        "from sklearn.cluster import KMeans\n",
        "import random"
      ],
      "metadata": {
        "id": "hCfjblh8xNwA"
      },
      "execution_count": 1,
      "outputs": []
    },
    {
      "cell_type": "markdown",
      "source": [
        "### Creating dataset"
      ],
      "metadata": {
        "id": "z-8mn0CTs_HT"
      }
    },
    {
      "cell_type": "code",
      "source": [
        "x = []\n",
        "x1 = []\n",
        "x2 = []\n",
        "y = []"
      ],
      "metadata": {
        "id": "61IJj_mbtuwq"
      },
      "execution_count": 2,
      "outputs": []
    },
    {
      "cell_type": "code",
      "execution_count": 3,
      "metadata": {
        "id": "SOnNADKhsvUH"
      },
      "outputs": [],
      "source": [
        "x.clear()\n",
        "x1.clear()\n",
        "x2.clear()\n",
        "y.clear()\n",
        "\n",
        "for i in range(0, 21):\n",
        "  for j in range(0, 21):\n",
        "    xi = - 2 + (0.2 * i)\n",
        "    xj = - 2 + (0.2 * j)\n",
        "\n",
        "    # Check if datapoint is within the defined range\n",
        "    if (xi >= -2) and (xi <= 2) and (xj >= -2) and (xj <= 2):\n",
        "      x1.append(xi)\n",
        "      x2.append(xj)\n",
        "      x.append(np.array([xi,xj]))\n",
        "\n",
        "      yi = (xi**2) + (xj**2)\n",
        "\n",
        "      if yi <= 1:\n",
        "        y.append(1)\n",
        "      else:\n",
        "        y.append(-1)"
      ]
    },
    {
      "cell_type": "code",
      "source": [
        "x = np.array(x)\n",
        "y = np.array(y)\n",
        "print(x.shape)\n",
        "print(y.shape)"
      ],
      "metadata": {
        "colab": {
          "base_uri": "https://localhost:8080/"
        },
        "id": "WCfNUhIrWMVC",
        "outputId": "e2527472-097c-4c72-b788-343813885f84"
      },
      "execution_count": 4,
      "outputs": [
        {
          "output_type": "stream",
          "name": "stdout",
          "text": [
            "(441, 2)\n",
            "(441,)\n"
          ]
        }
      ]
    },
    {
      "cell_type": "code",
      "source": [
        "# Split dataset into train (80%) and test (20%) \n",
        "X_train, X_test, y_train, y_test = train_test_split(x, y, test_size=0.2, random_state=81)"
      ],
      "metadata": {
        "id": "ze8LMCR1xnJ2"
      },
      "execution_count": 5,
      "outputs": []
    },
    {
      "cell_type": "markdown",
      "source": [
        "**Radial Basis Funtion Network (RBFN)** has a simple architecture and consists of three layers:\n",
        "\n",
        "* Input layer\n",
        "* Hidden layer with activation functions\n",
        "* Output layer"
      ],
      "metadata": {
        "id": "O8txq61vWymc"
      }
    },
    {
      "cell_type": "markdown",
      "source": [
        "All the weights from the input layer to the hidden layer are equal to 1 and we only need to calculate the weights from the hidden layer to the output layer."
      ],
      "metadata": {
        "id": "Jq4fyQk_YpY0"
      }
    },
    {
      "cell_type": "markdown",
      "source": [
        "The non-linear transformations in the hidden layer are made possible with the help of kernel nodes. These activations depend on two factors:\n",
        "\n",
        "* Center\n",
        "* Width or spread\n",
        "\n",
        "One of the most widely used kernel function is the Gaussian function. It is given by the following formula:\n",
        "\n",
        "![image.png](data:image/png;base64,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)\n",
        "\n",
        "where \n",
        "\n",
        "x is the input vector \n",
        "\n",
        "vi is the vector denoting the center of the gaussian function \n",
        "\n",
        "sigma is the standard deviation or the spread\n",
        "\n",
        "\n",
        "\n",
        "---\n",
        "\n",
        "The Gaussian function can also be called the probability density function which helps us to observe any input x given its normal distribution curve.\n",
        "Further, a combination of Gaussian functions can be used to approximate any given function."
      ],
      "metadata": {
        "id": "LSPJd4byYq4b"
      }
    },
    {
      "cell_type": "code",
      "source": [
        "# Define the Gaussian function\n",
        "def gaussian_distance(r, s):\n",
        "  '''\n",
        "  Inputs:\n",
        "  r - distance between a datapoint and the center of the radial function\n",
        "  s - Spread parameter\n",
        "\n",
        "  Output:\n",
        "    Returns the value of the Gaussian function over the given inputs\n",
        "  '''\n",
        "\n",
        "  res = np.exp((-1 * (r ** 2)) / (2 * (s ** 2)))\n",
        "  return res"
      ],
      "metadata": {
        "id": "WNxS8ypre_Rs"
      },
      "execution_count": 6,
      "outputs": []
    },
    {
      "cell_type": "markdown",
      "source": [
        "* We calculate the Gaussian kernel matrix by using the Gaussian function as the radial basis function and computing each element by the formula given above."
      ],
      "metadata": {
        "id": "FMR95gZZa2Zo"
      }
    },
    {
      "cell_type": "code",
      "source": [
        "def kernel_matrix(x, c, s, hidden_nodes):\n",
        "  '''\n",
        "  Inputs:\n",
        "  x - The input array of datapoints\n",
        "  c - Center of the radial function\n",
        "  s - Spread parameter\n",
        "  hidden_nodes - Number of nodes in the hidden layer\n",
        "\n",
        "  Output:\n",
        "    Returns the kernel matrix for the given set of inputs\n",
        "  '''\n",
        "\n",
        "  # initialize the matrix\n",
        "  G = np.empty((x.shape[0], hidden_nodes), dtype=float)\n",
        "\n",
        "  # Compute the Gaussian function for each input\n",
        "  for i in range(x.shape[0]):\n",
        "    for j in range(hidden_nodes):\n",
        "      diff = np.linalg.norm(x[i] - c[j])\n",
        "      res = gaussian_distance(diff, s)\n",
        "      G[i][j] = res\n",
        "\n",
        "  return G"
      ],
      "metadata": {
        "id": "WOGSZ3071mtc"
      },
      "execution_count": 7,
      "outputs": []
    },
    {
      "cell_type": "markdown",
      "source": [
        "* To calculate the weight matrix W, we make use of the following formula:\n",
        "\n",
        "  ![image.png](data:image/png;base64,iVBORw0KGgoAAAANSUhEUgAAAH8AAAAwCAYAAAA4s6WqAAAAAXNSR0IArs4c6QAAAARnQU1BAACxjwv8YQUAAAAJcEhZcwAAEnQAABJ0Ad5mH3gAAAbWSURBVHhe7ZxfSFtXHMe/G3uI4KCFPlyhD7uQwTI6aGQPRthDb+mDKR0kpQ+1+OACgxI7WG0HEreHkjpoUwuiK4zYwUosdMTBihYmSR8KUXDkFjr0weIdKCSgkMAGCbRw9jv3nkSNN9HEP4u79wPHc/K7J8k993t+Ob9zfuA7jICNJXlX1DYWxBbfwtjiWxhbfAtji29hbPEtjC2+hbHFtzC2+BbGFt/C2OJbGFt8C2OLb2Fs8S3MHlO6ecz+NI7UunhpguOkG94uBfIxYTiqrC8iOTONyV+nkXyRxGKWbE4PlM860X0hgIs+F0pDzM+NY/xFHpAUBHvccAj7dhYxfXea/gIuXz+8TsNqymoSY49VFJ1eBOm7qn9mHXDxGyfFQvQRgMw85xSmVBSXxK8Z1/0/pFlBvOtI8SbDEnf8TNbHITHXGRpbb5AFL1HdIYvxUekYZQviLZkJv2HribOMsJmR+y3IJPH+7ie1ehZYYkCifh4Wnt+/p7g38dUIc/Obl4JsKidsWyiwTDLMvGISeIaO2ARYS7BQB793Ev1yhCVWtt99YSXBwhck5hlOCwvxImSIL4XZJmsFaRahz5adxgSqKf5SlHmpj7TDZKqXPYmfedJtDLIrypaFzYzCbJh5eD+auaOvhLHZ0eIs4OT3TL9aI2lmOrfL5FhuTTQ5NN6dxNe9XvKz6I/GRJHIMczZ8PqIKkz7xJ7ET33LHw7d+K2UsFSjNADq+/VU83t/Ic3CwuOVoVT996vFmF+f7AEW3zwpypDXn6ZncXWK5cREqSp+yet5X2HaL/YQ7WtYmOO1hPOnaEWsiQOdZ67orex9Fareal7UB0EM0tgkXxjRAU/9wdV7okYBeCuam8g/HUfkpQc3vvSWg8TskkbhcyVFJB8OYhpb++4XjYufX4Q6wxsy3B9S2LIDDlc7yBuIBWR4pNysrE4gfH2WGvTAvwvQ6BrghCTepyGzbSekYnxoDOi5gSun6aXDAYqb9ElS5PVmXsdw7/sspKuDCPC++0zj4r9WEee1dB7tp3TL/wL1lwgmqZZ8ffA3+sAdLTiuN8ibKxTVvX7Og76vvPSbSZxoMybKUgY5Xpc5WK/nNCy+tpgGd2Cpy7U771jP0KMgJBnHdjWSIrS5JJLP91DmtO3eVBMN6Wd8UZKgXFYa83odCdI5XmdR+Fs3CDTEHxheH/i0YjH5K7/1XoXXy9cOxus5DYpPwrzi/kE/+m6XMYN3IL+iGWu9W4a8q0U0D22e4oM/9lDmzdbRGmRVJMVS1unazaiq0YIWMcG19Y01rjgzhsFnm7yec1JGO6+zBeTK8YHweklB/xcH4/U6IvCrEyNapRnOQsndxMIU7d80dgaekdJRSBMyHxaHLt0sbrahXkux6J0Ii1SUKU1cL7Mx3o39+zKLdlHUvm2vnmLhyu8UEb58bf8j/M00Jn55K+NnsRVhq8Ua7Zl5f9rXxpaErRkp7c+riF/4vV9c31Qk2s6Z9E3dMq6XtnCFZIgmltkJ3TKL+Xjf0neKbbGksNF93tdX0tDPfnEprQdFcHbCdVI31aCI2QdhjFNL7g3CX+v8+r+mFHmbRul0+VyEO4tRlqJQuPEDN8xWCEer8UkGGmJ3b5uv9bREGFvDWWirVK1OYoyv9Zf6jd3AAdJQYke934726yqka1NYHKm9JhXnbkPxDGLWGUJCDUNpFRd2QfZlEgtbQ+C6aGlrh+ejOlbMYhI3Ws7iHjX9Py8j3lM95Ms/7cPxz8cgDSSgDSnbzgKyjy+irXsS5PnQOuKQlST65pMIbROf1vdvWnD2roTwfAbe5/Rsh49j9FkCwQMWvwHPz0JTjWOadgr2agr/8h4u+kh4ClzCjwbrEl6PvGdMgrg6SmrG2JHsGkcnvAOGG08OT0A1OaApof2pb3TR+cnHpodAjtY20cpg+lE1r+c40PK+aGbI679RD8Xrdbjn18dGJi88L0yVvMmx9ETQOM93+mntavoD3Q1W4qxbJKLk3niVnEVpnZZZpNozKB3b+vwUvNXOxqWH3dRXYn6fV4+LoocUF9UvPkWitNbRzSos9CTBEslNZTrGRm8GmEdPiBiZsJTp2XZzwxNRSikd7fSy4Ei8PMb4wwjr7/UYKd6q2UyilPHkE2CHbFw5BUxFHkgcWu6jbvF5Nqp0o2ZF7lBY4GaUTS0e5CblEMgk2OhVr8jjV47Rz4J3YixlkuIts1LaEe2cgy9nRw/R6zn2P2fYibdF5P/ZOHtztB6Do5y4OdrY4luYxhM7NkceW3wLY4tvYWzxLYwtvoWxxbcwtvgWxhbfwtjiWxhbfAtji29hbPEtjC2+ZQH+BTIdqg0fmshZAAAAAElFTkSuQmCC)\n",
        "                        \n",
        "  where D is the output.\n",
        "\n",
        "  Although to accommodate for the non-square matrix condition, we consider the **pseudo-inverse of matrix G**, instead of the traditional inverse.\n",
        "\n",
        "  Hence, the equation then becomes\n",
        "\n",
        "  ![image.png](data:image/png;base64,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) \n",
        "\n",
        "  where \n",
        "\n",
        "  ![image.png](data:image/png;base64,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)"
      ],
      "metadata": {
        "id": "eKPURRhSeDVf"
      }
    },
    {
      "cell_type": "code",
      "source": [
        "# Calculate the weight matrix\n",
        "def calculate_weight(G, y):\n",
        "  '''\n",
        "  Inputs:\n",
        "  G - The kernel matrix\n",
        "  y - Set of target labels\n",
        "\n",
        "  Output:\n",
        "    Returns the weight matrix\n",
        "  '''\n",
        "\n",
        "  G_ = np.dot(G.T, G)\n",
        "  G_inv = np.linalg.pinv(G_)\n",
        "  G_plus = np.dot(G_inv, G.T)\n",
        "  w = np.dot(G_plus, y)\n",
        "\n",
        "  return w"
      ],
      "metadata": {
        "id": "foiToh9R2Osh"
      },
      "execution_count": 8,
      "outputs": []
    },
    {
      "cell_type": "code",
      "source": [
        "# Function to calculate the accuracy\n",
        "def calculate_accuracy(true, predicted):\n",
        "  '''\n",
        "  Inputs:\n",
        "  true - Set of the true labels\n",
        "  predicted - Set of the predicted labels\n",
        "\n",
        "  Output:\n",
        "    Returns the accuracy score\n",
        "  '''\n",
        "\n",
        "  accuracy = accuracy_score(true, predicted)\n",
        "  return accuracy"
      ],
      "metadata": {
        "id": "H6a2mOJ1vAyv"
      },
      "execution_count": 9,
      "outputs": []
    },
    {
      "cell_type": "code",
      "source": [
        "# Function to calculate the error\n",
        "def calculate_error(true, predicted):\n",
        "  '''\n",
        "  Inputs:\n",
        "  true - Set of the true labels\n",
        "  predicted - Set of the predicted labels\n",
        "\n",
        "  Output:\n",
        "    Returns the mean squared error\n",
        "  '''\n",
        "\n",
        "  mse = mean_squared_error(true, predicted)\n",
        "  return mse"
      ],
      "metadata": {
        "id": "ZknGeG9Fw7Cu"
      },
      "execution_count": 10,
      "outputs": []
    },
    {
      "cell_type": "code",
      "source": [
        "# Function to get the predictions on the train and test set\n",
        "def rbf_net(x, y, s, test_x, centers, hidden_nodes):\n",
        "  '''\n",
        "  Inputs:\n",
        "  x - Set of input datapoints\n",
        "  y - Set of target labels\n",
        "  s - Spread parameter\n",
        "  test_x - Set of test datapoints\n",
        "  centers - Set of center points for the radial function\n",
        "  hidden_nodes - Number of nodes in the hidden layer\n",
        "\n",
        "  Output:\n",
        "    Returns the predicted set of target labels for train and test sets\n",
        "  '''\n",
        "\n",
        "  G = kernel_matrix(x, centers, s, hidden_nodes)\n",
        "  W = calculate_weight(G, y)\n",
        "  y_pred_train = np.dot(G, W)\n",
        "\n",
        "  # Calculate the Gaussian kernel for the test set\n",
        "  output_G = kernel_matrix(test_x, centers, s, hidden_nodes)\n",
        "  y_pred_test = np.dot(output_G, W)\n",
        "\n",
        "  return y_pred_train, y_pred_test"
      ],
      "metadata": {
        "id": "7jJVoBfCxFyi"
      },
      "execution_count": 11,
      "outputs": []
    },
    {
      "cell_type": "code",
      "source": [
        "# Define values for spread parameters\n",
        "spread = [0.001, 0.05, 0.1, 0.2, 0.3, 0.4, 0.5, 0.6, 0.75, 0.8, 0.9, 1, 2.1, 3, 4, 5, 6, 7, 8.5, 9, 10]\n",
        "\n",
        "train_accuracies = []\n",
        "test_accuracies = []\n",
        "train_errors = []\n",
        "test_errors = []"
      ],
      "metadata": {
        "id": "qx4JzXICzrLS"
      },
      "execution_count": 12,
      "outputs": []
    },
    {
      "cell_type": "code",
      "source": [
        "def select_center(centers, spread, hidden_nodes):\n",
        "  '''\n",
        "  Inputs:\n",
        "  centers - Set of center points for the radial function\n",
        "  spread - Set of spread parameter values\n",
        "  hidden_nodes - Number of nodes in the hidden layer\n",
        "  '''\n",
        "  \n",
        "  train_accuracies.clear()\n",
        "  test_accuracies.clear()\n",
        "  train_errors.clear()\n",
        "  test_errors.clear()\n",
        "\n",
        "  train_acc, test_acc, train_error, test_error = 0, 0, 0, 0\n",
        "\n",
        "  for s in spread:\n",
        "    y_pred_train, y_pred_test = rbf_net(X_train, y_train, s, X_test, centers, hidden_nodes)\n",
        "\n",
        "    # Aligning the predicted outputs to the expected outputs, i.e. the labels -1 and 1\n",
        "    y_pred_train = np.sign(y_pred_train)\n",
        "    y_pred_test = np.sign(y_pred_test)\n",
        "\n",
        "    train_acc = calculate_accuracy(y_train, y_pred_train)\n",
        "    train_accuracies.append(train_acc)\n",
        "    test_acc = calculate_accuracy(y_test, y_pred_test)\n",
        "    test_accuracies.append(test_acc)\n",
        "\n",
        "    train_err = calculate_error(y_train, y_pred_train)\n",
        "    train_errors.append(train_err)\n",
        "    test_err = calculate_error(y_test, y_pred_test)\n",
        "    test_errors.append(test_err)\n",
        "\n",
        "    print('Spread: {} \\n Train accuracy: {} Train error: {} \\n Test accuracy: {} Test error: {}'.format(s, train_acc, train_err, test_acc, test_err))"
      ],
      "metadata": {
        "id": "scyW5AUhzw3t"
      },
      "execution_count": 13,
      "outputs": []
    },
    {
      "cell_type": "markdown",
      "source": [
        "## Considering all the points of the train set as centers"
      ],
      "metadata": {
        "id": "lvppFs_HR2nN"
      }
    },
    {
      "cell_type": "code",
      "source": [
        "centers = X_train\n",
        "select_center(centers, spread, len(X_train))"
      ],
      "metadata": {
        "colab": {
          "base_uri": "https://localhost:8080/"
        },
        "id": "VkZbs5geJ3kE",
        "outputId": "63b04538-2bff-4302-a013-ffaade39c408"
      },
      "execution_count": 14,
      "outputs": [
        {
          "output_type": "stream",
          "name": "stdout",
          "text": [
            "Spread: 0.001 \n",
            " Train accuracy: 1.0 Train error: 0.0 \n",
            " Test accuracy: 0.0 Test error: 1.0\n",
            "Spread: 0.05 \n",
            " Train accuracy: 1.0 Train error: 0.0 \n",
            " Test accuracy: 0.9550561797752809 Test error: 0.1797752808988764\n",
            "Spread: 0.1 \n",
            " Train accuracy: 1.0 Train error: 0.0 \n",
            " Test accuracy: 0.9550561797752809 Test error: 0.1797752808988764\n",
            "Spread: 0.2 \n",
            " Train accuracy: 1.0 Train error: 0.0 \n",
            " Test accuracy: 0.9550561797752809 Test error: 0.1797752808988764\n",
            "Spread: 0.3 \n",
            " Train accuracy: 1.0 Train error: 0.0 \n",
            " Test accuracy: 0.9213483146067416 Test error: 0.3146067415730337\n",
            "Spread: 0.4 \n",
            " Train accuracy: 1.0 Train error: 0.0 \n",
            " Test accuracy: 0.9550561797752809 Test error: 0.1797752808988764\n",
            "Spread: 0.5 \n",
            " Train accuracy: 1.0 Train error: 0.0 \n",
            " Test accuracy: 0.9325842696629213 Test error: 0.2696629213483146\n",
            "Spread: 0.6 \n",
            " Train accuracy: 0.9971590909090909 Train error: 0.011363636363636364 \n",
            " Test accuracy: 0.9438202247191011 Test error: 0.2247191011235955\n",
            "Spread: 0.75 \n",
            " Train accuracy: 0.9971590909090909 Train error: 0.011363636363636364 \n",
            " Test accuracy: 0.9325842696629213 Test error: 0.2696629213483146\n",
            "Spread: 0.8 \n",
            " Train accuracy: 0.9943181818181818 Train error: 0.022727272727272728 \n",
            " Test accuracy: 0.9550561797752809 Test error: 0.1797752808988764\n",
            "Spread: 0.9 \n",
            " Train accuracy: 0.9943181818181818 Train error: 0.022727272727272728 \n",
            " Test accuracy: 0.9550561797752809 Test error: 0.1797752808988764\n",
            "Spread: 1 \n",
            " Train accuracy: 0.9943181818181818 Train error: 0.022727272727272728 \n",
            " Test accuracy: 0.9662921348314607 Test error: 0.1348314606741573\n",
            "Spread: 2.1 \n",
            " Train accuracy: 0.9857954545454546 Train error: 0.056818181818181816 \n",
            " Test accuracy: 0.9662921348314607 Test error: 0.1348314606741573\n",
            "Spread: 3 \n",
            " Train accuracy: 0.9886363636363636 Train error: 0.045454545454545456 \n",
            " Test accuracy: 0.9662921348314607 Test error: 0.1348314606741573\n",
            "Spread: 4 \n",
            " Train accuracy: 0.9886363636363636 Train error: 0.045454545454545456 \n",
            " Test accuracy: 0.9438202247191011 Test error: 0.2247191011235955\n",
            "Spread: 5 \n",
            " Train accuracy: 0.9886363636363636 Train error: 0.045454545454545456 \n",
            " Test accuracy: 0.9438202247191011 Test error: 0.2247191011235955\n",
            "Spread: 6 \n",
            " Train accuracy: 0.9886363636363636 Train error: 0.045454545454545456 \n",
            " Test accuracy: 0.9438202247191011 Test error: 0.2247191011235955\n",
            "Spread: 7 \n",
            " Train accuracy: 0.9857954545454546 Train error: 0.056818181818181816 \n",
            " Test accuracy: 0.9662921348314607 Test error: 0.1348314606741573\n",
            "Spread: 8.5 \n",
            " Train accuracy: 0.875 Train error: 0.5 \n",
            " Test accuracy: 0.8089887640449438 Test error: 0.7640449438202247\n",
            "Spread: 9 \n",
            " Train accuracy: 0.8721590909090909 Train error: 0.5113636363636364 \n",
            " Test accuracy: 0.8089887640449438 Test error: 0.7640449438202247\n",
            "Spread: 10 \n",
            " Train accuracy: 0.8693181818181818 Train error: 0.5227272727272727 \n",
            " Test accuracy: 0.8089887640449438 Test error: 0.7640449438202247\n"
          ]
        }
      ]
    },
    {
      "cell_type": "code",
      "source": [
        "fig = plt.figure(figsize=(8,8))\n",
        "ax1 = fig.add_subplot(221)\n",
        "ax2 = fig.add_subplot(222)\n",
        "ax3 = fig.add_subplot(223)\n",
        "ax4 = fig.add_subplot(224)\n",
        "ax1.title.set_text('Train accuracy vs spread')\n",
        "ax2.title.set_text('Train error vs spread')\n",
        "ax3.title.set_text('Test accuracy vs spread')\n",
        "ax4.title.set_text('Test error vs spread')\n",
        "ax1.plot(spread, train_accuracies)\n",
        "ax2.plot(spread, train_errors)\n",
        "ax3.plot(spread, test_accuracies)\n",
        "ax4.plot(spread, test_errors)\n",
        "plt.show()"
      ],
      "metadata": {
        "colab": {
          "base_uri": "https://localhost:8080/",
          "height": 499
        },
        "id": "LD6Zh1gtRw5Y",
        "outputId": "59ea631e-24b4-49dd-d7fd-f72d5716a16a"
      },
      "execution_count": 15,
      "outputs": [
        {
          "output_type": "display_data",
          "data": {
            "text/plain": [
              "<Figure size 576x576 with 4 Axes>"
            ],
            "image/png": "[encoded data removed]"
          },
          "metadata": {
            "needs_background": "light"
          }
        }
      ]
    },
    {
      "cell_type": "markdown",
      "source": [
        "* The highest training accuracy is obtained when the spread parameters are smaller than 0.6.\n",
        "* Consequently, the error is reported to be 0 as well.\n",
        "* The testing accuracy significantly increases as the spread parameter is increased. However, it dips slightly when the width is 8 and 10.\n",
        "* In accordance to the testing accuracy, error on the test set decreases in the beginning and then increases as the width approaches 8.\n",
        "* One of the reason for this to happen is that error increases when the standard deviation increases. The increase in the variance of the population leads to a decrease in the accuracy."
      ],
      "metadata": {
        "id": "O4Jyoqh_kIkn"
      }
    },
    {
      "cell_type": "markdown",
      "source": [
        "## Randomly select 150 centers from input data"
      ],
      "metadata": {
        "id": "AUS1Ii4KDPvC"
      }
    },
    {
      "cell_type": "code",
      "source": [
        "centers = []\n",
        "for i in range(150):\n",
        "  index = random.randint(0, X_train.shape[0]-1)\n",
        "  centers.append(X_train[index])"
      ],
      "metadata": {
        "id": "dW8T9yuFDai-"
      },
      "execution_count": 16,
      "outputs": []
    },
    {
      "cell_type": "code",
      "source": [
        "select_center(centers, spread, 150)"
      ],
      "metadata": {
        "colab": {
          "base_uri": "https://localhost:8080/"
        },
        "id": "gceVbEqXG0tq",
        "outputId": "e1de7bd2-3293-4085-d4d7-5d05bc45e305"
      },
      "execution_count": 17,
      "outputs": [
        {
          "output_type": "stream",
          "name": "stdout",
          "text": [
            "Spread: 0.001 \n",
            " Train accuracy: 0.3409090909090909 Train error: 0.6590909090909091 \n",
            " Test accuracy: 0.0 Test error: 1.0\n",
            "Spread: 0.05 \n",
            " Train accuracy: 0.9801136363636364 Train error: 0.07954545454545454 \n",
            " Test accuracy: 0.9325842696629213 Test error: 0.2696629213483146\n",
            "Spread: 0.1 \n",
            " Train accuracy: 0.9801136363636364 Train error: 0.07954545454545454 \n",
            " Test accuracy: 0.9325842696629213 Test error: 0.2696629213483146\n",
            "Spread: 0.2 \n",
            " Train accuracy: 0.9943181818181818 Train error: 0.022727272727272728 \n",
            " Test accuracy: 0.9438202247191011 Test error: 0.2247191011235955\n",
            "Spread: 0.3 \n",
            " Train accuracy: 0.9971590909090909 Train error: 0.011363636363636364 \n",
            " Test accuracy: 0.9438202247191011 Test error: 0.2247191011235955\n",
            "Spread: 0.4 \n",
            " Train accuracy: 0.9971590909090909 Train error: 0.011363636363636364 \n",
            " Test accuracy: 0.9550561797752809 Test error: 0.1797752808988764\n",
            "Spread: 0.5 \n",
            " Train accuracy: 1.0 Train error: 0.0 \n",
            " Test accuracy: 0.9438202247191011 Test error: 0.2247191011235955\n",
            "Spread: 0.6 \n",
            " Train accuracy: 1.0 Train error: 0.0 \n",
            " Test accuracy: 0.9438202247191011 Test error: 0.2247191011235955\n",
            "Spread: 0.75 \n",
            " Train accuracy: 0.9943181818181818 Train error: 0.022727272727272728 \n",
            " Test accuracy: 0.9550561797752809 Test error: 0.1797752808988764\n",
            "Spread: 0.8 \n",
            " Train accuracy: 0.9943181818181818 Train error: 0.022727272727272728 \n",
            " Test accuracy: 0.9550561797752809 Test error: 0.1797752808988764\n",
            "Spread: 0.9 \n",
            " Train accuracy: 0.9943181818181818 Train error: 0.022727272727272728 \n",
            " Test accuracy: 0.9662921348314607 Test error: 0.1348314606741573\n",
            "Spread: 1 \n",
            " Train accuracy: 0.9914772727272727 Train error: 0.03409090909090909 \n",
            " Test accuracy: 0.9775280898876404 Test error: 0.0898876404494382\n",
            "Spread: 2.1 \n",
            " Train accuracy: 0.9857954545454546 Train error: 0.056818181818181816 \n",
            " Test accuracy: 0.9662921348314607 Test error: 0.1348314606741573\n",
            "Spread: 3 \n",
            " Train accuracy: 0.9886363636363636 Train error: 0.045454545454545456 \n",
            " Test accuracy: 0.9662921348314607 Test error: 0.1348314606741573\n",
            "Spread: 4 \n",
            " Train accuracy: 0.9914772727272727 Train error: 0.03409090909090909 \n",
            " Test accuracy: 0.9438202247191011 Test error: 0.2247191011235955\n",
            "Spread: 5 \n",
            " Train accuracy: 0.9886363636363636 Train error: 0.045454545454545456 \n",
            " Test accuracy: 0.9438202247191011 Test error: 0.2247191011235955\n",
            "Spread: 6 \n",
            " Train accuracy: 0.9857954545454546 Train error: 0.056818181818181816 \n",
            " Test accuracy: 0.9438202247191011 Test error: 0.2247191011235955\n",
            "Spread: 7 \n",
            " Train accuracy: 0.9857954545454546 Train error: 0.056818181818181816 \n",
            " Test accuracy: 0.9662921348314607 Test error: 0.1348314606741573\n",
            "Spread: 8.5 \n",
            " Train accuracy: 0.875 Train error: 0.5 \n",
            " Test accuracy: 0.8089887640449438 Test error: 0.7640449438202247\n",
            "Spread: 9 \n",
            " Train accuracy: 0.8721590909090909 Train error: 0.5113636363636364 \n",
            " Test accuracy: 0.8089887640449438 Test error: 0.7640449438202247\n",
            "Spread: 10 \n",
            " Train accuracy: 0.8693181818181818 Train error: 0.5227272727272727 \n",
            " Test accuracy: 0.8089887640449438 Test error: 0.7640449438202247\n"
          ]
        }
      ]
    },
    {
      "cell_type": "code",
      "source": [
        "fig = plt.figure(figsize=(8,8))\n",
        "ax1 = fig.add_subplot(221)\n",
        "ax2 = fig.add_subplot(222)\n",
        "ax3 = fig.add_subplot(223)\n",
        "ax4 = fig.add_subplot(224)\n",
        "ax1.title.set_text('Train accuracy vs spread')\n",
        "ax2.title.set_text('Train error vs spread')\n",
        "ax3.title.set_text('Test accuracy vs spread')\n",
        "ax4.title.set_text('Test error vs spread')\n",
        "ax1.plot(spread, train_accuracies)\n",
        "ax2.plot(spread, train_errors)\n",
        "ax3.plot(spread, test_accuracies)\n",
        "ax4.plot(spread, test_errors)\n",
        "plt.show()"
      ],
      "metadata": {
        "colab": {
          "base_uri": "https://localhost:8080/",
          "height": 499
        },
        "id": "d3JR1u3iQH22",
        "outputId": "49e5690e-715b-4bd3-9556-51d06e9b901f"
      },
      "execution_count": 18,
      "outputs": [
        {
          "output_type": "display_data",
          "data": {
            "text/plain": [
              "<Figure size 576x576 with 4 Axes>"
            ],
            "image/png": "[encoded data removed]"
          },
          "metadata": {
            "needs_background": "light"
          }
        }
      ]
    },
    {
      "cell_type": "markdown",
      "source": [
        "## Using K-Means to find the centers"
      ],
      "metadata": {
        "id": "LBfPjysKJK1l"
      }
    },
    {
      "cell_type": "code",
      "source": [
        "kmeans = KMeans(n_clusters=150, random_state=81).fit(X_train)\n",
        "# print(kmeans.cluster_centers_)"
      ],
      "metadata": {
        "id": "JRfl6LUHJEXB"
      },
      "execution_count": 19,
      "outputs": []
    },
    {
      "cell_type": "code",
      "source": [
        "select_center(kmeans.cluster_centers_, spread, 150)"
      ],
      "metadata": {
        "colab": {
          "base_uri": "https://localhost:8080/"
        },
        "id": "SwSH4CHvKUey",
        "outputId": "d638b8e3-f44a-4de7-bb5f-0fd71f6763cd"
      },
      "execution_count": 20,
      "outputs": [
        {
          "output_type": "stream",
          "name": "stdout",
          "text": [
            "Spread: 0.001 \n",
            " Train accuracy: 0.09943181818181818 Train error: 0.9005681818181818 \n",
            " Test accuracy: 0.0 Test error: 1.0\n",
            "Spread: 0.05 \n",
            " Train accuracy: 0.9772727272727273 Train error: 0.09090909090909091 \n",
            " Test accuracy: 0.9213483146067416 Test error: 0.3146067415730337\n",
            "Spread: 0.1 \n",
            " Train accuracy: 0.9829545454545454 Train error: 0.06818181818181818 \n",
            " Test accuracy: 0.9325842696629213 Test error: 0.2696629213483146\n",
            "Spread: 0.2 \n",
            " Train accuracy: 0.9971590909090909 Train error: 0.011363636363636364 \n",
            " Test accuracy: 0.9438202247191011 Test error: 0.2247191011235955\n",
            "Spread: 0.3 \n",
            " Train accuracy: 1.0 Train error: 0.0 \n",
            " Test accuracy: 0.9438202247191011 Test error: 0.2247191011235955\n",
            "Spread: 0.4 \n",
            " Train accuracy: 0.9971590909090909 Train error: 0.011363636363636364 \n",
            " Test accuracy: 0.9438202247191011 Test error: 0.2247191011235955\n",
            "Spread: 0.5 \n",
            " Train accuracy: 0.9971590909090909 Train error: 0.011363636363636364 \n",
            " Test accuracy: 0.9550561797752809 Test error: 0.1797752808988764\n",
            "Spread: 0.6 \n",
            " Train accuracy: 0.9971590909090909 Train error: 0.011363636363636364 \n",
            " Test accuracy: 0.9550561797752809 Test error: 0.1797752808988764\n",
            "Spread: 0.75 \n",
            " Train accuracy: 0.9943181818181818 Train error: 0.022727272727272728 \n",
            " Test accuracy: 0.9550561797752809 Test error: 0.1797752808988764\n",
            "Spread: 0.8 \n",
            " Train accuracy: 0.9943181818181818 Train error: 0.022727272727272728 \n",
            " Test accuracy: 0.9550561797752809 Test error: 0.1797752808988764\n",
            "Spread: 0.9 \n",
            " Train accuracy: 0.9943181818181818 Train error: 0.022727272727272728 \n",
            " Test accuracy: 0.9550561797752809 Test error: 0.1797752808988764\n",
            "Spread: 1 \n",
            " Train accuracy: 0.9943181818181818 Train error: 0.022727272727272728 \n",
            " Test accuracy: 0.9662921348314607 Test error: 0.1348314606741573\n",
            "Spread: 2.1 \n",
            " Train accuracy: 0.9857954545454546 Train error: 0.056818181818181816 \n",
            " Test accuracy: 0.9662921348314607 Test error: 0.1348314606741573\n",
            "Spread: 3 \n",
            " Train accuracy: 0.9857954545454546 Train error: 0.056818181818181816 \n",
            " Test accuracy: 0.9662921348314607 Test error: 0.1348314606741573\n",
            "Spread: 4 \n",
            " Train accuracy: 0.9886363636363636 Train error: 0.045454545454545456 \n",
            " Test accuracy: 0.9438202247191011 Test error: 0.2247191011235955\n",
            "Spread: 5 \n",
            " Train accuracy: 0.9857954545454546 Train error: 0.056818181818181816 \n",
            " Test accuracy: 0.9438202247191011 Test error: 0.2247191011235955\n",
            "Spread: 6 \n",
            " Train accuracy: 0.9857954545454546 Train error: 0.056818181818181816 \n",
            " Test accuracy: 0.9438202247191011 Test error: 0.2247191011235955\n",
            "Spread: 7 \n",
            " Train accuracy: 0.9886363636363636 Train error: 0.045454545454545456 \n",
            " Test accuracy: 0.9662921348314607 Test error: 0.1348314606741573\n",
            "Spread: 8.5 \n",
            " Train accuracy: 0.875 Train error: 0.5 \n",
            " Test accuracy: 0.8089887640449438 Test error: 0.7640449438202247\n",
            "Spread: 9 \n",
            " Train accuracy: 0.8721590909090909 Train error: 0.5113636363636364 \n",
            " Test accuracy: 0.8089887640449438 Test error: 0.7640449438202247\n",
            "Spread: 10 \n",
            " Train accuracy: 0.8693181818181818 Train error: 0.5227272727272727 \n",
            " Test accuracy: 0.8089887640449438 Test error: 0.7640449438202247\n"
          ]
        }
      ]
    },
    {
      "cell_type": "code",
      "source": [
        "fig = plt.figure(figsize=(8,8))\n",
        "ax1 = fig.add_subplot(221)\n",
        "ax2 = fig.add_subplot(222)\n",
        "ax3 = fig.add_subplot(223)\n",
        "ax4 = fig.add_subplot(224)\n",
        "ax1.title.set_text('Train accuracy vs spread')\n",
        "ax2.title.set_text('Train error vs spread')\n",
        "ax3.title.set_text('Test accuracy vs spread')\n",
        "ax4.title.set_text('Test error vs spread')\n",
        "ax1.plot(spread, train_accuracies)\n",
        "ax2.plot(spread, train_errors)\n",
        "ax3.plot(spread, test_accuracies)\n",
        "ax4.plot(spread, test_errors)\n",
        "plt.show()"
      ],
      "metadata": {
        "colab": {
          "base_uri": "https://localhost:8080/",
          "height": 499
        },
        "id": "gsIaSjhGLqJQ",
        "outputId": "b38c9d3f-78cb-4f86-ad52-d2d70a6caf96"
      },
      "execution_count": 21,
      "outputs": [
        {
          "output_type": "display_data",
          "data": {
            "text/plain": [
              "<Figure size 576x576 with 4 Axes>"
            ],
            "image/png": "[encoded data removed]"
          },
          "metadata": {
            "needs_background": "light"
          }
        }
      ]
    },
    {
      "cell_type": "markdown",
      "source": [
        "* Unlike the observations in the first part, training accuracy increases exponentially as the spread parameter is increased. However, for the last two widths of 8 and 10, the accuracy goes down to around 80%.\n",
        "* The test accuracy graph is almost similar to the one in the first part. Furthermore, it is noteworthy to note that there are many irregularities in the accuracy between 0 and 2 in the first approach where all the points were considered as centers. The transition was rather smooth when 150 random clusters were choosen. The irregularity was least in case of KMeans.\n",
        "* One of the main causes can be attributed to the fact that KMeans renders a head-start in finding of optimal clusters and is better able to adapt to the newer examples and generalize clusters better than the other two approaches."
      ],
      "metadata": {
        "id": "I3nVqf8qsYl1"
      }
    },
    {
      "cell_type": "markdown",
      "source": [
        "**References**:\n",
        "* https://github.com/ArijusGrotuzas/GaussianProcess/blob/main/rbf.py\n",
        "* https://towardsdatascience.com/most-effective-way-to-implement-radial-basis-function-neural-network-for-classification-problem-33c467803319\n",
        "* https://pythonmachinelearning.pro/using-neural-networks-for-regression-radial-basis-function-networks/"
      ],
      "metadata": {
        "id": "1OG96fvx23H0"
      }
    }
  ]
}